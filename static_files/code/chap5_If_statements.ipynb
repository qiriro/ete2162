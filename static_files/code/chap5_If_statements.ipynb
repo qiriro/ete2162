{
  "cells": [
    {
      "cell_type": "markdown",
      "metadata": {
        "id": "zz4nk_VSsljg"
      },
      "source": [
        "# Chapter 5 --If Statements"
      ]
    },
    {
      "cell_type": "markdown",
      "metadata": {
        "id": "UUYDHM-Dsljm"
      },
      "source": [
        "### If Statements\n",
        " It is a control structure that direct the order of execution of the statements in a program. In the real world, we commonly must evaluate information around us and then `choose one course of action or another based on what we observe`."
      ]
    },
    {
      "cell_type": "code",
      "execution_count": 31,
      "metadata": {
        "id": "vRde2vegsljo"
      },
      "outputs": [],
      "source": [
        "# The loop in this example first checks if the current value of car is 'bmw'.\n",
        "# If it is, the value is printed in uppercase. If the value of car is anything other\n",
        "# than 'bmw', it’s printed in title case:\n",
        "cars = ['audi', 'bmw', 'subaru', 'toyota']\n",
        "for car in cars:\n",
        "    if car == 'bmw':\n",
        "        print(car.upper())"
      ]
    },
    {
      "cell_type": "code",
      "execution_count": 30,
      "metadata": {},
      "outputs": [
        {
          "name": "stdout",
          "output_type": "stream",
          "text": [
            "bmw\n"
          ]
        }
      ],
      "source": [
        "a =car = 'bmw'\n",
        "print(a)"
      ]
    },
    {
      "cell_type": "markdown",
      "metadata": {
        "id": "qmc-rU3_sljq"
      },
      "source": [
        "#### Checking for Equality\n",
        "`Testing for equality is case sensitive in Python`. For example, two values with different capitalization are not considered equal:"
      ]
    },
    {
      "cell_type": "code",
      "execution_count": 35,
      "metadata": {
        "id": "N9EXHOAcsljr"
      },
      "outputs": [],
      "source": [
        "car = 'bmw'"
      ]
    },
    {
      "cell_type": "code",
      "execution_count": 36,
      "metadata": {},
      "outputs": [
        {
          "name": "stdout",
          "output_type": "stream",
          "text": [
            "True\n"
          ]
        }
      ],
      "source": [
        "car == 'bmw'"
      ]
    },
    {
      "cell_type": "markdown",
      "metadata": {
        "id": "5PUgGwIHsljr"
      },
      "source": [
        "`Testing for equality` is case sensitive in Python. For example, two values with different capitalization are not \n",
        "considered equal"
      ]
    },
    {
      "cell_type": "code",
      "execution_count": 37,
      "metadata": {
        "id": "3GI_UBfFsljs"
      },
      "outputs": [
        {
          "data": {
            "text/plain": [
              "False"
            ]
          },
          "execution_count": 37,
          "metadata": {},
          "output_type": "execute_result"
        }
      ],
      "source": [
        "car = 'Audi'\n",
        "car == 'audi'"
      ]
    },
    {
      "cell_type": "code",
      "execution_count": 38,
      "metadata": {
        "id": "PHjq9Eqhsljt"
      },
      "outputs": [
        {
          "data": {
            "text/plain": [
              "True"
            ]
          },
          "execution_count": 38,
          "metadata": {},
          "output_type": "execute_result"
        }
      ],
      "source": [
        "car = 'Audi'\n",
        "car.lower() == 'audi'.lower()"
      ]
    },
    {
      "cell_type": "markdown",
      "metadata": {
        "id": "sScdoOlUslju"
      },
      "source": [
        "### Checking for Inequality"
      ]
    },
    {
      "cell_type": "markdown",
      "metadata": {
        "id": "RRRNyxtesljv"
      },
      "source": [
        "**When** you want to determine whether two values are not equal, you can `combine an exclamation point and an equal sign (!=)`."
      ]
    },
    {
      "cell_type": "code",
      "execution_count": 39,
      "metadata": {
        "id": "1XbYs3wLsljw"
      },
      "outputs": [
        {
          "name": "stdout",
          "output_type": "stream",
          "text": [
            "Hold the anchovies!\n"
          ]
        }
      ],
      "source": [
        "requested_topping = 'mushrooms'\n",
        "if requested_topping == 'anchovies':\n",
        "    print(\"Hold the anchovies!\")"
      ]
    },
    {
      "cell_type": "markdown",
      "metadata": {
        "id": "XHvL4i3wsljw"
      },
      "source": [
        "### Numerical Comparisons\n",
        "Testing numerical values is pretty straightforward."
      ]
    },
    {
      "cell_type": "code",
      "execution_count": 6,
      "metadata": {
        "id": "WeOqVSyLsljx"
      },
      "outputs": [
        {
          "data": {
            "text/plain": [
              "True"
            ]
          },
          "execution_count": 6,
          "metadata": {},
          "output_type": "execute_result"
        }
      ],
      "source": [
        "age = 18\n",
        "age == 18"
      ]
    },
    {
      "cell_type": "code",
      "execution_count": null,
      "metadata": {},
      "outputs": [],
      "source": []
    },
    {
      "cell_type": "code",
      "execution_count": 7,
      "metadata": {
        "id": "wqx0ZmPAsljx"
      },
      "outputs": [
        {
          "name": "stdout",
          "output_type": "stream",
          "text": [
            "That is not the correct answer. Please try again!\n"
          ]
        }
      ],
      "source": [
        "answer = 17\n",
        "\n",
        "if answer != 42:\n",
        "    print(\"That is not the correct answer. Please try again!\")"
      ]
    },
    {
      "cell_type": "markdown",
      "metadata": {
        "id": "nDVaVdLSsljy"
      },
      "source": [
        "### Using `and` to Check Multiple Conditions\n",
        "\n",
        "\n",
        "\n",
        "If the conditions on both the sides of the operator are true, then the expression as a whole is true. If either test fails or if both tests fail, the\n",
        "expression evaluates to False."
      ]
    },
    {
      "cell_type": "code",
      "execution_count": null,
      "metadata": {},
      "outputs": [],
      "source": []
    },
    {
      "cell_type": "code",
      "execution_count": 40,
      "metadata": {
        "id": "XY2DVSywsljy"
      },
      "outputs": [
        {
          "data": {
            "text/plain": [
              "False"
            ]
          },
          "execution_count": 40,
          "metadata": {},
          "output_type": "execute_result"
        }
      ],
      "source": [
        "# Check whether two people are both over 21\n",
        "age_0 = 22\n",
        "age_1 = 18\n",
        "age_0 >= 21 and age_1 >= 21"
      ]
    },
    {
      "cell_type": "code",
      "execution_count": 9,
      "metadata": {
        "id": "TV-nOQzksljz"
      },
      "outputs": [
        {
          "data": {
            "text/plain": [
              "True"
            ]
          },
          "execution_count": 9,
          "metadata": {},
          "output_type": "execute_result"
        }
      ],
      "source": [
        "age_1 = 22\n",
        "age_0 >= 21 and age_1 >= 21"
      ]
    },
    {
      "cell_type": "markdown",
      "metadata": {
        "id": "S_NnOX7bsljz"
      },
      "source": [
        "### Using `or` to Check Multiple Conditions\n",
        "\n",
        "The expression is false only if both the statements around the operator are false. Otherwise, it is true.\n",
        "\n",
        "With the Boolean `OR` operator, you can connect two Boolean expressions into one compound expression. At least one subexpressions must be true for the compound expression to be considered true, and it doesn’t matter which. If both subexpressions are false, then the expression is false."
      ]
    },
    {
      "cell_type": "code",
      "execution_count": 10,
      "metadata": {
        "id": "Pn5Z9uVEslj0"
      },
      "outputs": [
        {
          "data": {
            "text/plain": [
              "True"
            ]
          },
          "execution_count": 10,
          "metadata": {},
          "output_type": "execute_result"
        }
      ],
      "source": [
        "age_0 = 22\n",
        "age_1 = 18\n",
        "age_0 >= 21 or age_1 >= 21"
      ]
    },
    {
      "cell_type": "markdown",
      "metadata": {
        "id": "3fYYShSeslj0"
      },
      "source": [
        "### Checking Whether a Value Is in a List\n",
        "To find out whether a particular value is already in a list, use the keyword `in`. This technique is\n",
        "quite powerful because you can create a list of essential values, and then easily check whether the value you’re testing matches one of the values in the list."
      ]
    },
    {
      "cell_type": "code",
      "execution_count": 41,
      "metadata": {},
      "outputs": [
        {
          "data": {
            "text/plain": [
              "True"
            ]
          },
          "execution_count": 41,
          "metadata": {},
          "output_type": "execute_result"
        }
      ],
      "source": [
        "a = \"Rwanda\"\n",
        "\"d\" in a"
      ]
    },
    {
      "cell_type": "code",
      "execution_count": 42,
      "metadata": {},
      "outputs": [
        {
          "data": {
            "text/plain": [
              "['R', 'w', 'a', 'n', 'd', 'a']"
            ]
          },
          "execution_count": 42,
          "metadata": {},
          "output_type": "execute_result"
        }
      ],
      "source": [
        "list (a)"
      ]
    },
    {
      "cell_type": "code",
      "execution_count": 11,
      "metadata": {
        "id": "aRsjVxVCslj1"
      },
      "outputs": [
        {
          "data": {
            "text/plain": [
              "True"
            ]
          },
          "execution_count": 11,
          "metadata": {},
          "output_type": "execute_result"
        }
      ],
      "source": [
        "requested_toppings = ['mushrooms', 'onions', 'pineapple']\n",
        "'mushrooms' in requested_toppings\n"
      ]
    },
    {
      "cell_type": "code",
      "execution_count": 12,
      "metadata": {
        "id": "wthNHE-bslj1"
      },
      "outputs": [
        {
          "data": {
            "text/plain": [
              "False"
            ]
          },
          "execution_count": 12,
          "metadata": {},
          "output_type": "execute_result"
        }
      ],
      "source": [
        "'pepperoni'  in requested_toppings\n"
      ]
    },
    {
      "cell_type": "markdown",
      "metadata": {
        "id": "xwsnwt3Pslj1"
      },
      "source": [
        "### Checking Whether a Value Is Not in a List"
      ]
    },
    {
      "cell_type": "code",
      "execution_count": 13,
      "metadata": {
        "id": "oYXC27vvslj2"
      },
      "outputs": [
        {
          "name": "stdout",
          "output_type": "stream",
          "text": [
            "Marie, you can post a response if you wish.\n"
          ]
        }
      ],
      "source": [
        "banned_users = ['andrew', 'carolina', 'david']\n",
        "user = 'marie'\n",
        "if user not in banned_users:\n",
        "    print(user.title() + \", you can post a response if you wish.\")"
      ]
    },
    {
      "cell_type": "markdown",
      "metadata": {
        "id": "8zcR8FTbslj2"
      },
      "source": [
        "### if Statements\n",
        "**Simple if Statements**\n",
        "- `The simplest` kind of if statement has `one test` and `one action`"
      ]
    },
    {
      "cell_type": "code",
      "execution_count": 14,
      "metadata": {
        "id": "CI4yAoYpslj3"
      },
      "outputs": [
        {
          "name": "stdout",
          "output_type": "stream",
          "text": [
            "You are old enough to vote!\n"
          ]
        }
      ],
      "source": [
        "age = 19\n",
        "# Python checks to see whether the value in age is greater than or equal to 18. It is, so Python executes\n",
        "# the indented print statement\n",
        "if age >= 18:\n",
        "    print(\"You are old enough to vote!\")"
      ]
    },
    {
      "cell_type": "markdown",
      "metadata": {
        "id": "XiL72nLHslj3"
      },
      "source": [
        "### if-else Statements\n",
        "When you’ll want to take `one action` when a conditional test passes and `a different action` in all other cases."
      ]
    },
    {
      "cell_type": "code",
      "execution_count": 15,
      "metadata": {
        "id": "aAD58SVSslj3"
      },
      "outputs": [
        {
          "name": "stdout",
          "output_type": "stream",
          "text": [
            "You are old enough to vote!\n",
            "Have you registered to vote yet?\n"
          ]
        }
      ],
      "source": [
        "if age >= 18:\n",
        "    print(\"You are old enough to vote!\")\n",
        "    print(\"Have you registered to vote yet?\")\n",
        "else:\n",
        "    print(\"Sorry, you are too young to vote.\")\n",
        "    print(\"Please register to vote as soon as you turn 18!\")"
      ]
    },
    {
      "cell_type": "markdown",
      "metadata": {
        "id": "7Jffof2Lslj8"
      },
      "source": [
        "### The if-elif-else Chain\n",
        "- Often, you’ll need to test more than two possible situations, and to evaluate these, you can use Python’s if-elif-else syntax. Python executes only one block in an if-elif-else chain."
      ]
    },
    {
      "cell_type": "code",
      "execution_count": 16,
      "metadata": {
        "id": "X7Wt9HKgslj9"
      },
      "outputs": [
        {
          "name": "stdout",
          "output_type": "stream",
          "text": [
            "Your admission cost is $5.\n"
          ]
        }
      ],
      "source": [
        "# Example 1\n",
        "age = 12\n",
        "\n",
        "if age < 4:\n",
        "    print(\"Your admission cost is $0.\")\n",
        "elif age < 18:\n",
        "    print(\"Your admission cost is $5.\")\n",
        "else:\n",
        "    print(\"Your admission cost is $10.\")"
      ]
    },
    {
      "cell_type": "code",
      "execution_count": 17,
      "metadata": {
        "id": "yxXr3bdOslj9"
      },
      "outputs": [
        {
          "name": "stdout",
          "output_type": "stream",
          "text": [
            "Your admission cost is $5.\n"
          ]
        }
      ],
      "source": [
        "# Example 2\n",
        "age = 12\n",
        "if age < 4:\n",
        "    price = 0\n",
        "elif age < 18:\n",
        "    price = 5\n",
        "else:\n",
        "    price = 10\n",
        "print(\"Your admission cost is $\" + str(price) + \".\")"
      ]
    },
    {
      "cell_type": "markdown",
      "metadata": {
        "id": "AAaabPlBslj-"
      },
      "source": [
        "### Using Multiple elif Blocks\n",
        "We could add one more conditional test to the code to determine whether a condition is True or not."
      ]
    },
    {
      "cell_type": "code",
      "execution_count": 18,
      "metadata": {
        "id": "ytbI7JElslj-"
      },
      "outputs": [
        {
          "name": "stdout",
          "output_type": "stream",
          "text": [
            "Your admission cost is $5.\n"
          ]
        }
      ],
      "source": [
        "age = 12\n",
        "\n",
        "if age < 4:\n",
        "    price = 0\n",
        "elif age < 18:\n",
        "    price = 5\n",
        "elif age < 65:\n",
        "    price = 10\n",
        "else:\n",
        "    price = 5\n",
        "    \n",
        "print(\"Your admission cost is $\" + str(price) + \".\")"
      ]
    },
    {
      "cell_type": "markdown",
      "metadata": {
        "id": "JbuiDqfZslj-"
      },
      "source": [
        "### Omitting the else Block\n",
        "- Python does not require an `else block` at the end of an `if-elif chain`. Sometimes an else block is useful, sometimes it is clearer to use an additional `elif statement` that catches the specific condition of interest."
      ]
    },
    {
      "cell_type": "code",
      "execution_count": 19,
      "metadata": {
        "id": "G8U3sX9Sslj-"
      },
      "outputs": [
        {
          "name": "stdout",
          "output_type": "stream",
          "text": [
            "Your admission cost is $5.\n"
          ]
        }
      ],
      "source": [
        "age = 12\n",
        "\n",
        "if age < 4:\n",
        "    price = 0\n",
        "elif age < 18:\n",
        "    price = 5\n",
        "elif age < 65:\n",
        "    price = 10\n",
        "elif age >= 65:\n",
        "    price = 5   \n",
        "print(\"Your admission cost is $\" + str(price) + \".\")"
      ]
    },
    {
      "cell_type": "markdown",
      "metadata": {
        "id": "lyjxIjhDslj_"
      },
      "source": [
        "### Testing Multiple Conditions\n",
        "\n",
        "Sometimes it’s important to check all of the conditions of interest. In this case, you should use a series of simple if statements with no elif or else blocks. This technique makes sense when more than one condition\n",
        "could be True, and you want to act on every condition that is True."
      ]
    },
    {
      "cell_type": "code",
      "execution_count": 20,
      "metadata": {
        "id": "qxrHrf9kslj_"
      },
      "outputs": [
        {
          "name": "stdout",
          "output_type": "stream",
          "text": [
            "Adding mushrooms.\n",
            "Adding extra cheese.\n",
            "\n",
            "Finished making your pizza!\n"
          ]
        }
      ],
      "source": [
        "requested_toppings = ['mushrooms', 'extra cheese']\n",
        "\n",
        "if 'mushrooms' in requested_toppings:\n",
        "    print(\"Adding mushrooms.\")\n",
        "if 'pepperoni' in requested_toppings:\n",
        "    print(\"Adding pepperoni.\")\n",
        "if 'extra cheese' in requested_toppings:\n",
        "    print(\"Adding extra cheese.\")\n",
        "    print(\"\\nFinished making your pizza!\")"
      ]
    },
    {
      "cell_type": "markdown",
      "metadata": {
        "id": "6ltgeoEAslj_"
      },
      "source": [
        "### Using if Statements with Lists\n",
        "#### Checking for `Special Items`"
      ]
    },
    {
      "cell_type": "code",
      "execution_count": 21,
      "metadata": {
        "id": "klL1aUWAslj_"
      },
      "outputs": [
        {
          "name": "stdout",
          "output_type": "stream",
          "text": [
            "Adding mushrooms.\n",
            "Adding green peppers.\n",
            "Adding extra cheese.\n",
            "\n",
            "Finished making your pizza!\n"
          ]
        }
      ],
      "source": [
        "# Let’s continue with the pizzeria example. The pizzeria displays a message\n",
        "# whenever a topping is added to your pizza, as it’s being made.\n",
        "\n",
        "# The output is straightforward because this code is just a simple for loop:\n",
        "requested_toppings = ['mushrooms', 'green peppers', 'extra cheese']\n",
        "for requested_topping in requested_toppings:\n",
        "    print(\"Adding \" + requested_topping + \".\")\n",
        "print(\"\\nFinished making your pizza!\")\n"
      ]
    },
    {
      "cell_type": "code",
      "execution_count": 22,
      "metadata": {
        "id": "8lq_EwY-slkA"
      },
      "outputs": [
        {
          "name": "stdout",
          "output_type": "stream",
          "text": [
            "Adding mushrooms.\n",
            "Sorry, we are out of green peppers right now.\n",
            "Adding extra cheese.\n",
            "\n",
            "Finished making your pizza!\n"
          ]
        }
      ],
      "source": [
        "# But what if the pizzeria runs out of green peppers? An if statement\n",
        "# inside the for loop can handle this situation appropriately\n",
        "\n",
        "requested_toppings = ['mushrooms', 'green peppers', 'extra cheese']\n",
        "for requested_topping in requested_toppings:\n",
        "    if requested_topping == 'green peppers':\n",
        "        print(\"Sorry, we are out of green peppers right now.\")\n",
        "    else:\n",
        "        print(\"Adding \" + requested_topping + \".\")\n",
        "print(\"\\nFinished making your pizza!\")"
      ]
    },
    {
      "cell_type": "code",
      "execution_count": 44,
      "metadata": {},
      "outputs": [
        {
          "name": "stdout",
          "output_type": "stream",
          "text": [
            "[]\n"
          ]
        }
      ],
      "source": [
        "a =[]\n",
        "print (a)"
      ]
    },
    {
      "cell_type": "markdown",
      "metadata": {
        "id": "H46yIzE4slkA"
      },
      "source": [
        "#### Checking That a `List Is Not Empty`"
      ]
    },
    {
      "cell_type": "code",
      "execution_count": 23,
      "metadata": {
        "id": "jFhV-8TEslkA"
      },
      "outputs": [
        {
          "name": "stdout",
          "output_type": "stream",
          "text": [
            "Are you sure you want a plain pizza?\n"
          ]
        }
      ],
      "source": [
        "# When the name of a list is used in an if statement, Python returns True if the list contains at least one item;\n",
        "# an empty list evaluates to False\n",
        "requested_toppings = []\n",
        "if requested_toppings:\n",
        "    for requested_topping in requested_toppings:\n",
        "        print(\"Adding \" + requested_topping + \".\")\n",
        "        print(\"\\nFinished making your pizza!\")\n",
        "else:\n",
        "    print(\"Are you sure you want a plain pizza?\")"
      ]
    },
    {
      "cell_type": "code",
      "execution_count": 24,
      "metadata": {
        "id": "__NCZw_vslkA"
      },
      "outputs": [
        {
          "data": {
            "text/plain": [
              "0"
            ]
          },
          "execution_count": 24,
          "metadata": {},
          "output_type": "execute_result"
        }
      ],
      "source": [
        "len( requested_toppings)"
      ]
    },
    {
      "cell_type": "markdown",
      "metadata": {
        "id": "lrkgHdZkslkB"
      },
      "source": [
        "####  Using `multiple lists`\n",
        "The first is a list of available toppings at the pizzeria, and the second is the list of toppings that the user has\n",
        "requested."
      ]
    },
    {
      "cell_type": "code",
      "execution_count": 25,
      "metadata": {
        "id": "SFR2OGFAslkB"
      },
      "outputs": [
        {
          "name": "stdout",
          "output_type": "stream",
          "text": [
            "Adding mushrooms.\n",
            "Sorry, we don't have french fries.\n",
            "Adding extra cheese.\n",
            "\n",
            "Finished making your pizza!\n"
          ]
        }
      ],
      "source": [
        "available_toppings = ['mushrooms', 'olives', 'green peppers',\n",
        "                        'pepperoni', 'pineapple', 'extra cheese']\n",
        "\n",
        "requested_toppings = ['mushrooms', 'french fries', 'extra cheese']\n",
        "\n",
        "for requested_topping in requested_toppings:\n",
        "    if requested_topping in available_toppings:\n",
        "        print(\"Adding \" + requested_topping + \".\")\n",
        "    else:\n",
        "        print(\"Sorry, we don't have \" + requested_topping + \".\")\n",
        "print(\"\\nFinished making your pizza!\")"
      ]
    },
    {
      "cell_type": "markdown",
      "metadata": {
        "id": "VDHpOLF-slkB"
      },
      "source": [
        "### `elif` Example"
      ]
    },
    {
      "cell_type": "code",
      "execution_count": 26,
      "metadata": {
        "id": "GXml2syQslkB"
      },
      "outputs": [
        {
          "ename": "ValueError",
          "evalue": "invalid literal for int() with base 10: ''",
          "output_type": "error",
          "traceback": [
            "\u001b[0;31m---------------------------------------------------------------------------\u001b[0m",
            "\u001b[0;31mValueError\u001b[0m                                Traceback (most recent call last)",
            "Cell \u001b[0;32mIn[26], line 1\u001b[0m\n\u001b[0;32m----> 1\u001b[0m x \u001b[38;5;241m=\u001b[39m \u001b[38;5;28mint\u001b[39m(\u001b[38;5;28minput\u001b[39m())\n\u001b[1;32m      2\u001b[0m y \u001b[38;5;241m=\u001b[39m \u001b[38;5;28mint\u001b[39m(\u001b[38;5;28minput\u001b[39m())\n\u001b[1;32m      3\u001b[0m \u001b[38;5;28;01mif\u001b[39;00m x \u001b[38;5;241m>\u001b[39m \u001b[38;5;241m0\u001b[39m \u001b[38;5;129;01mand\u001b[39;00m y \u001b[38;5;241m>\u001b[39m \u001b[38;5;241m0\u001b[39m:\n",
            "\u001b[0;31mValueError\u001b[0m: invalid literal for int() with base 10: ''"
          ]
        }
      ],
      "source": [
        "x = int(input())\n",
        "y = int(input())\n",
        "if x > 0 and y > 0:\n",
        "    print(\"Quadrant I\")\n",
        "elif x > 0 and y < 0:\n",
        "    print(\"Quadrant IV\")\n",
        "elif y > 0:\n",
        "    print(\"Quadrant II\")\n",
        "else:\n",
        "    print(\"Quadrant III\")"
      ]
    },
    {
      "cell_type": "markdown",
      "metadata": {
        "id": "RWRekgUeslkC"
      },
      "source": [
        "### Nested conditions"
      ]
    },
    {
      "cell_type": "code",
      "execution_count": null,
      "metadata": {
        "id": "YeVGmsB6slkC"
      },
      "outputs": [],
      "source": [
        "x = int(input('Select a value for axis X: '))\n",
        "y = int(input('Select a value for axis Y: '))\n",
        "if x > 0:\n",
        "    if y > 0:\n",
        "        # x is greater than 0, y is greater than 0\n",
        "        print(\"Quadrant I\")\n",
        "    else:    \n",
        "        # x is greater than 0, y is less or equal than 0\n",
        "        print(\"Quadrant IV\")\n",
        "else:\n",
        "    if y > 0:\n",
        "        # x is less or equal than 0, y is greater than 0\n",
        "        print(\"Quadrant II\")\n",
        "    else:    \n",
        "        # x is less or equal than 0, y is less or equal than 0\n",
        "        print(\"Quadrant III\")"
      ]
    }
  ],
  "metadata": {
    "colab": {
      "include_colab_link": true,
      "name": "Ch_05_If_Statements.ipynb",
      "provenance": []
    },
    "kernelspec": {
      "display_name": "ml",
      "language": "python",
      "name": "python3"
    },
    "language_info": {
      "codemirror_mode": {
        "name": "ipython",
        "version": 3
      },
      "file_extension": ".py",
      "mimetype": "text/x-python",
      "name": "python",
      "nbconvert_exporter": "python",
      "pygments_lexer": "ipython3",
      "version": "3.11.0"
    }
  },
  "nbformat": 4,
  "nbformat_minor": 0
}
