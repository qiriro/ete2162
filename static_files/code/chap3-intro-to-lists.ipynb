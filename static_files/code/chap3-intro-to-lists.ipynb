{
 "cells": [
  {
   "cell_type": "markdown",
   "metadata": {
    "colab_type": "text",
    "id": "view-in-github"
   },
   "source": []
  },
  {
   "cell_type": "markdown",
   "metadata": {
    "id": "NUa7ref8skSr"
   },
   "source": [
    "# Chapter 3 - Introducing Lists"
   ]
  },
  {
   "cell_type": "markdown",
   "metadata": {
    "id": "-4XrI5tsskSv"
   },
   "source": [
    "## What is a List?\n",
    "\n",
    "A list is a collection of items in a particular order. Lists can includes things such as the letters of the alphabet, digits, or even names of people and the items do not have to be related in any way.\n",
    "\n",
    "In Python, lists are indicated by a pair of square brackets (`[]`) and each item (individual element) is separated in the list by a comma. \n",
    "\n",
    "Key Points:\n",
    "\n",
    "- Lists can contain letters, numbers, or any type of object.\n",
    "- Items in a list don't need to be related.\n",
    "- It's a good practice to name lists using plural nouns.\n",
    "- Lists are indicated by square brackets [] in Python.\n",
    "- Individual elements in a list are separated by commas.\n",
    "\n"
   ]
  },
  {
   "cell_type": "code",
   "execution_count": 27,
   "metadata": {
    "id": "AYIJQJOZskSx"
   },
   "outputs": [
    {
     "name": "stdout",
     "output_type": "stream",
     "text": [
      "['trek', 'cannondale', 'redline', 'specialized']\n"
     ]
    }
   ],
   "source": [
    "# variable called \"bicycles\" that has 4 items\n",
    "# each item in the list is the string value for a brand of bicycle\n",
    "bicycles = ['trek', 'cannondale', 'redline', 'specialized']\n",
    "\n",
    "# show the values stored in the list\n",
    "print(bicycles)"
   ]
  },
  {
   "cell_type": "markdown",
   "metadata": {
    "id": "57rYrN7dskSy"
   },
   "source": [
    "### Accessing Elements in a List\n",
    "\n",
    "Lists are ordered collections, so each element can be accessed by its position, or ***index***. To get an item from the list, type the name of the list followed by the index of the item enclosed in square brackets. (Example: `list_name[index]`)\n",
    "\n",
    "Key Points:\n",
    "\n",
    "- Use square brackets [] with the index to access an element.\n",
    "- Python returns the element without square brackets.\n",
    "- You can use string methods on elements in a list."
   ]
  },
  {
   "cell_type": "code",
   "execution_count": 28,
   "metadata": {
    "id": "SWg5v8TpskSz"
   },
   "outputs": [
    {
     "name": "stdout",
     "output_type": "stream",
     "text": [
      "trek\n"
     ]
    }
   ],
   "source": [
    "# show the value of the first item in the list\n",
    "print(bicycles[0])"
   ]
  },
  {
   "cell_type": "code",
   "execution_count": 29,
   "metadata": {
    "id": "Bbd-oLBzskSz"
   },
   "outputs": [
    {
     "name": "stdout",
     "output_type": "stream",
     "text": [
      "Trek\n"
     ]
    }
   ],
   "source": [
    "# Applying string methods to a any element in a list\n",
    "print(bicycles[0].title())\n"
   ]
  },
  {
   "cell_type": "markdown",
   "metadata": {
    "id": "Px6ZEDIGskS0"
   },
   "source": [
    "### Index Positions Start at 0, Not 1\n",
    "\n",
    "Python considers the first item to be at position 0, not position 1 (which applies to many other programming languages).\n",
    "\n",
    "There is also a special syntax for accessing the last items in a list, using the minus sign.\n",
    "\n",
    "- The first item in a list is at position 0, not 1.\n",
    "- The second item has an index of 1, and so on.\n",
    "- To get the last item in a list, use the index -1."
   ]
  },
  {
   "cell_type": "code",
   "execution_count": 30,
   "metadata": {
    "id": "mXbjw1UJskS1"
   },
   "outputs": [
    {
     "name": "stdout",
     "output_type": "stream",
     "text": [
      "['trek', 'cannondale', 'redline', 'specialized']\n"
     ]
    }
   ],
   "source": [
    "# My list\n",
    "print(bicycles)"
   ]
  },
  {
   "cell_type": "code",
   "execution_count": 53,
   "metadata": {
    "id": "079uDD5DskS2"
   },
   "outputs": [
    {
     "name": "stdout",
     "output_type": "stream",
     "text": [
      "cannondale\n",
      "specialized\n",
      "specialized\n"
     ]
    }
   ],
   "source": [
    "# The following asks for the bicycles at index 1 and index 3.\n",
    "# This code returns the second and fourth bicycles in the list\n",
    "# Accessing different positions\n",
    "print(bicycles[1])  # Second item\n",
    "print(bicycles[3])  # Fourth item\n",
    "print(bicycles[-1])  # Last item"
   ]
  },
  {
   "cell_type": "markdown",
   "metadata": {},
   "source": [
    "#### Exercise:\n",
    "Create a list of three animals. Print the first and last animal names."
   ]
  },
  {
   "cell_type": "code",
   "execution_count": 54,
   "metadata": {},
   "outputs": [
    {
     "name": "stdout",
     "output_type": "stream",
     "text": [
      "First animal:\n",
      "Last animal:\n"
     ]
    }
   ],
   "source": [
    "# Your code here\n",
    "animals = []\n",
    "print(\"First animal:\", )\n",
    "print(\"Last animal:\", )"
   ]
  },
  {
   "cell_type": "markdown",
   "metadata": {},
   "source": [
    "### Exercise \n",
    "\n",
    "Create a list of five numbers. Print the second and second-to-last number."
   ]
  },
  {
   "cell_type": "code",
   "execution_count": null,
   "metadata": {},
   "outputs": [],
   "source": []
  },
  {
   "cell_type": "code",
   "execution_count": 32,
   "metadata": {
    "id": "HgxFvjtqskS3"
   },
   "outputs": [
    {
     "name": "stdout",
     "output_type": "stream",
     "text": [
      "specialized\n"
     ]
    }
   ],
   "source": [
    "# show the last item in the list\n",
    "# This syntax is quite useful,because you’ll often want to access the last items in\n",
    "# a list without knowing exactly how long the list is.\n",
    "print(bicycles[-1])"
   ]
  },
  {
   "cell_type": "code",
   "execution_count": 33,
   "metadata": {
    "id": "Yw6EWMzdskS3"
   },
   "outputs": [
    {
     "name": "stdout",
     "output_type": "stream",
     "text": [
      "cannondale\n"
     ]
    }
   ],
   "source": [
    "# show the third last item in the list\n",
    "print(bicycles[-3])"
   ]
  },
  {
   "cell_type": "markdown",
   "metadata": {
    "id": "GOf89gxeskS4"
   },
   "source": [
    "### Using Individual Values from a List\n",
    "\n",
    "You can use individual values from a list just as you would any other variable. This is particularly useful for creating dynamic messages or performing operations with list elements.\n",
    "\n",
    "Key Points:\n",
    "- List elements can be used in strings, calculations, or any other operation.\n",
    "- You can use f-strings to include list elements in messages."
   ]
  },
  {
   "cell_type": "code",
   "execution_count": 34,
   "metadata": {
    "id": "Qk7bITusskS4"
   },
   "outputs": [
    {
     "name": "stdout",
     "output_type": "stream",
     "text": [
      "My first bicycle was a Trek.\n"
     ]
    }
   ],
   "source": [
    "# variable with the first item in the list used in the string text\n",
    "message = \"My first bicycle was a \" + bicycles[0].title() + \".\"\n",
    "\n",
    "print(message)"
   ]
  },
  {
   "cell_type": "code",
   "execution_count": 55,
   "metadata": {},
   "outputs": [
    {
     "name": "stdout",
     "output_type": "stream",
     "text": [
      "My first bicycle was a Trek.\n"
     ]
    }
   ],
   "source": [
    "bicycles = ['trek', 'cannondale', 'redline', 'specialized']\n",
    "message = f\"My first bicycle was a {bicycles[0].title()}.\"\n",
    "print(message)"
   ]
  },
  {
   "cell_type": "markdown",
   "metadata": {},
   "source": [
    "#### Exercise:\n",
    "Create a list of three numbers. Print a message that uses all three numbers in a calculation (e.g., sum or average)."
   ]
  },
  {
   "cell_type": "markdown",
   "metadata": {
    "id": "JBEtp1n2skS5"
   },
   "source": [
    "## Changing, Adding, and Removing Elements\n",
    "\n",
    "Lists can be dynamic, meaning that throughout the program the list can have elements added, removed, or updated."
   ]
  },
  {
   "cell_type": "markdown",
   "metadata": {
    "id": "JSuxv-xpskS5"
   },
   "source": [
    "### Modifying Elements in a List\n",
    "\n",
    "The syntax for modifying an item in a list is similar to accessing it from its position. Use the variable name for the list followed by the index position enclosed in square brackets, then assign it (`=`) to the new value. (Example: `list_name[index] = new_value`)"
   ]
  },
  {
   "cell_type": "code",
   "execution_count": 35,
   "metadata": {
    "id": "FEsV2zwOskS6"
   },
   "outputs": [
    {
     "name": "stdout",
     "output_type": "stream",
     "text": [
      "['honda', 'yamaha', 'suzuki']\n"
     ]
    }
   ],
   "source": [
    "# create a variable that has 3 motorcycle models\n",
    "motorcycles = ['honda', 'yamaha', 'suzuki']\n",
    "\n",
    "print(motorcycles)"
   ]
  },
  {
   "cell_type": "code",
   "execution_count": 56,
   "metadata": {},
   "outputs": [
    {
     "name": "stdout",
     "output_type": "stream",
     "text": [
      "['honda', 'yamaha', 'suzuki']\n",
      "['ducati', 'yamaha', 'suzuki']\n"
     ]
    }
   ],
   "source": [
    "motorcycles = ['honda', 'yamaha', 'suzuki']\n",
    "print(motorcycles)\n",
    "\n",
    "motorcycles[0] = 'ducati'\n",
    "print(motorcycles)"
   ]
  },
  {
   "cell_type": "code",
   "execution_count": 36,
   "metadata": {
    "id": "ql15H9jJskS6"
   },
   "outputs": [
    {
     "name": "stdout",
     "output_type": "stream",
     "text": [
      "['ducati', 'yamaha', 'suzuki']\n"
     ]
    }
   ],
   "source": [
    "# replace the item in position 0 ('honda') to be 'ducati'\n",
    "motorcycles[0] = 'ducati'\n",
    "\n",
    "# show the list with the modified value\n",
    "print(motorcycles)"
   ]
  },
  {
   "cell_type": "markdown",
   "metadata": {
    "id": "ejW1x9V1skS6"
   },
   "source": [
    "### Adding Elements to a List"
   ]
  },
  {
   "cell_type": "markdown",
   "metadata": {
    "id": "EY2nNILBskS7"
   },
   "source": [
    "#### Appending Elements to the End of a List\n",
    "\n",
    "The easiest way to add an element to a list is to ***append*** it to the end of a list. The Python function to do this is `list_name.append(value)`.\n",
    "\n",
    "Lists can also be created with no items in it (empty) and then have values appended to it. Only one value can be appended at a time to the list."
   ]
  },
  {
   "cell_type": "code",
   "execution_count": 37,
   "metadata": {
    "id": "d_dsJ-iOskS7"
   },
   "outputs": [
    {
     "name": "stdout",
     "output_type": "stream",
     "text": [
      "['ducati', 'yamaha', 'suzuki', 'honda']\n"
     ]
    }
   ],
   "source": [
    "# add 'honda' back into the list\n",
    "motorcycles.append('honda')\n",
    "\n",
    "# 'honda' was appended at the end of the list\n",
    "print(motorcycles)"
   ]
  },
  {
   "cell_type": "code",
   "execution_count": 38,
   "metadata": {
    "id": "AwQRlXHNskS8"
   },
   "outputs": [
    {
     "name": "stdout",
     "output_type": "stream",
     "text": [
      "[]\n"
     ]
    }
   ],
   "source": [
    "# The append() method makes it easy to build lists dynamically. For\n",
    "# example, you can start with an empty list and then add items to the list\n",
    "# using a series of append() statements.\n",
    "\n",
    "# empty list\n",
    "motorcycles = []\n",
    "\n",
    "# show that it has no items\n",
    "print(motorcycles)"
   ]
  },
  {
   "cell_type": "code",
   "execution_count": 39,
   "metadata": {
    "id": "Pb-Cm1R8skS8"
   },
   "outputs": [
    {
     "name": "stdout",
     "output_type": "stream",
     "text": [
      "['honda', 'yamaha', 'suzuki']\n"
     ]
    }
   ],
   "source": [
    "# add each new value to the list\n",
    "motorcycles.append('honda')\n",
    "motorcycles.append('yamaha')\n",
    "motorcycles.append('suzuki')\n",
    "\n",
    "# show list with appended items\n",
    "print(motorcycles)"
   ]
  },
  {
   "cell_type": "markdown",
   "metadata": {
    "id": "mNNYViYJskS8"
   },
   "source": [
    "#### Inserting Elements into a List\n",
    "\n",
    "Items can be added to a specific position in the list using the `list_name.insert(index, value)` method. This will shift items that come after the new value by one index position (for example, the item in index `2` will become index `3`). "
   ]
  },
  {
   "cell_type": "code",
   "execution_count": 40,
   "metadata": {
    "id": "BdEMzCxRskS9"
   },
   "outputs": [
    {
     "name": "stdout",
     "output_type": "stream",
     "text": [
      "['honda', 'yamaha', 'suzuki']\n"
     ]
    }
   ],
   "source": [
    "# use same variable from previous example\n",
    "print(motorcycles)"
   ]
  },
  {
   "cell_type": "code",
   "execution_count": 41,
   "metadata": {
    "id": "rerpWJcqskS9"
   },
   "outputs": [
    {
     "name": "stdout",
     "output_type": "stream",
     "text": [
      "['ducati', 'honda', 'yamaha', 'suzuki']\n"
     ]
    }
   ],
   "source": [
    "# add the value 'ducati' into the list at position 0\n",
    "motorcycles.insert(0, 'ducati')\n",
    "\n",
    "# all other items are moved over by one index position\n",
    "print(motorcycles)"
   ]
  },
  {
   "cell_type": "markdown",
   "metadata": {
    "id": "ckTv0GFXskS9"
   },
   "source": [
    "### Removing Elements from a List\n",
    "\n",
    "Items can be taken out from a list according to its position or by the value."
   ]
  },
  {
   "cell_type": "markdown",
   "metadata": {
    "id": "l0_5X603skS-"
   },
   "source": [
    "#### Removing an Item Using the `del` Statement\n",
    "\n",
    "If the position of the item that will be removed is known, then the Python function to delete it is `del list_name[index]`."
   ]
  },
  {
   "cell_type": "code",
   "execution_count": 42,
   "metadata": {
    "id": "24y0mb2qskS-"
   },
   "outputs": [
    {
     "name": "stdout",
     "output_type": "stream",
     "text": [
      "['ducati', 'honda', 'yamaha', 'suzuki']\n"
     ]
    }
   ],
   "source": [
    "# same list as previous example\n",
    "print(motorcycles)"
   ]
  },
  {
   "cell_type": "code",
   "execution_count": 43,
   "metadata": {
    "id": "AC4mhKkxskS-"
   },
   "outputs": [
    {
     "name": "stdout",
     "output_type": "stream",
     "text": [
      "['honda', 'yamaha', 'suzuki']\n"
     ]
    }
   ],
   "source": [
    "# remove the first item in the list\n",
    "del motorcycles[0]\n",
    "\n",
    "print(motorcycles)"
   ]
  },
  {
   "cell_type": "markdown",
   "metadata": {
    "id": "b8h8lI3dskS_"
   },
   "source": [
    "#### Remove an Item Using the `pop()` Method\n",
    "\n",
    "The `pop() method` removes the last item in a list.\n",
    "The `list_name.pop()` function removes the last item in a list but will also hold onto that item to be used elsewhere. The term ***pop*** comes from thinking of a list as a stack of items, with the last item being on the top of the stack. So \"popping\" an item from a stack removes items starting from the top."
   ]
  },
  {
   "cell_type": "code",
   "execution_count": 44,
   "metadata": {
    "id": "zq-ZzFZIskS_"
   },
   "outputs": [
    {
     "name": "stdout",
     "output_type": "stream",
     "text": [
      "['honda', 'yamaha', 'suzuki']\n"
     ]
    }
   ],
   "source": [
    "\n",
    "# same list from previous example\n",
    "print(motorcycles)"
   ]
  },
  {
   "cell_type": "code",
   "execution_count": 45,
   "metadata": {
    "id": "wn94vEyLskS_"
   },
   "outputs": [],
   "source": [
    "# 'pop' function will remove last item in list\n",
    "# popped value is saved to variable 'popped_motorcycle'\n",
    "popped_motorcycle = motorcycles.pop()"
   ]
  },
  {
   "cell_type": "code",
   "execution_count": 46,
   "metadata": {
    "id": "YfsCKUoWskS_"
   },
   "outputs": [
    {
     "name": "stdout",
     "output_type": "stream",
     "text": [
      "['honda', 'yamaha']\n"
     ]
    }
   ],
   "source": [
    "# show list with removed item\n",
    "print(motorcycles)"
   ]
  },
  {
   "cell_type": "code",
   "execution_count": 47,
   "metadata": {
    "id": "a_7xnOBTskS_"
   },
   "outputs": [
    {
     "name": "stdout",
     "output_type": "stream",
     "text": [
      "suzuki\n"
     ]
    }
   ],
   "source": [
    "# show value that was stored when popped from list\n",
    "print(popped_motorcycle)"
   ]
  },
  {
   "cell_type": "code",
   "execution_count": 48,
   "metadata": {
    "id": "7Ip2Qyu1skTA"
   },
   "outputs": [
    {
     "name": "stdout",
     "output_type": "stream",
     "text": [
      "The last motorcycle I owned was a Suzuki.\n"
     ]
    }
   ],
   "source": [
    "# use popped item in a string text\n",
    "print(\"The last motorcycle I owned was a \" + popped_motorcycle.title() + \".\")"
   ]
  },
  {
   "cell_type": "markdown",
   "metadata": {
    "id": "2TaFe-krskTA"
   },
   "source": [
    "#### Popping Items from any Position in a List\n",
    "You can actually use `pop()` to remove an item in a list at any position by\n",
    "including the index of the item you want to remove in parentheses."
   ]
  },
  {
   "cell_type": "code",
   "execution_count": 49,
   "metadata": {
    "id": "To45aq8BskTA"
   },
   "outputs": [
    {
     "name": "stdout",
     "output_type": "stream",
     "text": [
      "['honda', 'yamaha']\n"
     ]
    }
   ],
   "source": [
    "print(motorcycles)"
   ]
  },
  {
   "cell_type": "code",
   "execution_count": 50,
   "metadata": {
    "id": "k1cvAmBVskTB"
   },
   "outputs": [
    {
     "data": {
      "text/plain": [
       "'honda'"
      ]
     },
     "execution_count": 50,
     "metadata": {},
     "output_type": "execute_result"
    }
   ],
   "source": [
    "motorcycles.pop(0)"
   ]
  },
  {
   "cell_type": "code",
   "execution_count": 51,
   "metadata": {
    "id": "KyZiwtmsskTB"
   },
   "outputs": [
    {
     "name": "stdout",
     "output_type": "stream",
     "text": [
      "['yamaha']\n"
     ]
    }
   ],
   "source": [
    "print(motorcycles)"
   ]
  },
  {
   "cell_type": "code",
   "execution_count": 52,
   "metadata": {
    "id": "1zbn-2sEskTB"
   },
   "outputs": [
    {
     "ename": "IndexError",
     "evalue": "pop index out of range",
     "output_type": "error",
     "traceback": [
      "\u001b[0;31m---------------------------------------------------------------------------\u001b[0m",
      "\u001b[0;31mIndexError\u001b[0m                                Traceback (most recent call last)",
      "Cell \u001b[0;32mIn[52], line 1\u001b[0m\n\u001b[0;32m----> 1\u001b[0m poppedMotorcycle\u001b[38;5;241m=\u001b[39m motorcycles\u001b[38;5;241m.\u001b[39mpop(\u001b[38;5;241m1\u001b[39m)\n",
      "\u001b[0;31mIndexError\u001b[0m: pop index out of range"
     ]
    }
   ],
   "source": [
    "poppedMotorcycle= motorcycles.pop(1)"
   ]
  },
  {
   "cell_type": "code",
   "execution_count": null,
   "metadata": {
    "id": "oDrHTy8gskTB"
   },
   "outputs": [],
   "source": [
    "print(poppedMotorcycle)"
   ]
  },
  {
   "cell_type": "code",
   "execution_count": null,
   "metadata": {
    "id": "wv8fj3wYskTB"
   },
   "outputs": [],
   "source": [
    "print(motorcycles)"
   ]
  },
  {
   "cell_type": "markdown",
   "metadata": {},
   "source": [
    "### Exercise:\n",
    "Start with the list ['apple', 'banana', 'cherry']. Modify it by:\n",
    "\n",
    "- Changing 'banana' to 'grape'\n",
    "- Adding 'orange' to the end\n",
    "- Inserting 'mango' at the beginning\n",
    "- Removing 'cherry'"
   ]
  },
  {
   "cell_type": "markdown",
   "metadata": {
    "id": "3K5PujrSskTC"
   },
   "source": [
    "#### Remove an Item by Value\n",
    "\n",
    "If the position of the item is unknown, then it can be removed using the `list_name.remove(value)` function.\n",
    "\n",
    "Values can be stored into a variable then used within the function."
   ]
  },
  {
   "cell_type": "code",
   "execution_count": null,
   "metadata": {
    "id": "hQXQhIK-skTC"
   },
   "outputs": [],
   "source": [
    "# create list of motorcycle models\n",
    "motorcycles = ['honda', 'yamaha', 'suzuki', 'ducati']"
   ]
  },
  {
   "cell_type": "code",
   "execution_count": null,
   "metadata": {
    "id": "ZUn437ObskTC"
   },
   "outputs": [],
   "source": [
    "# remove the motorcycle 'ducati' from the list\n",
    "motorcycles.remove('ducati')\n",
    "\n",
    "# 'ducati' is no longer in the list\n",
    "print(motorcycles)"
   ]
  },
  {
   "cell_type": "code",
   "execution_count": null,
   "metadata": {
    "id": "sRJ-DkwKskTC"
   },
   "outputs": [],
   "source": [
    "# create same list from previous example\n",
    "motorcycles = ['honda', 'yamaha', 'suzuki', 'ducati']"
   ]
  },
  {
   "cell_type": "code",
   "execution_count": null,
   "metadata": {
    "id": "XKStCr7fskTD"
   },
   "outputs": [],
   "source": [
    "# store the value 'ducati' to a variable\n",
    "expensive_motorcycle = 'ducati'\n",
    "\n",
    "#remove the value stored in the variable from the list\n",
    "motorcycles.remove(expensive_motorcycle)\n",
    "\n",
    "# list after item removal\n",
    "print(motorcycles)\n",
    "\n",
    "# using the variable in a string text\n",
    "print(\"\\nA \" + expensive_motorcycle.title() + \" is too expensive for me.\")"
   ]
  },
  {
   "cell_type": "markdown",
   "metadata": {
    "id": "wQSC3UniskTD"
   },
   "source": [
    "## Organizing a List\n",
    "\n",
    "List items might be stored in an unorganized way and may need to be presented in a particular order. Items sorted in Python have the hierarchy order of `string numbers > uppercase A-Z > lowercase a-z > symbols`."
   ]
  },
  {
   "cell_type": "markdown",
   "metadata": {
    "id": "8kNpvLLPskTD"
   },
   "source": [
    "### Sorting a List Permanently with the `sort()` Method\n",
    "\n",
    "The `list_name.sort()` function does a permanent sort on a list and cannot be reverted back to the original order. However, the order can be reversed using the argument `list_name.sort(reverse=True)`."
   ]
  },
  {
   "cell_type": "code",
   "execution_count": 59,
   "metadata": {},
   "outputs": [
    {
     "name": "stdout",
     "output_type": "stream",
     "text": [
      "Help on method_descriptor:\n",
      "\n",
      "sort(self, /, *, key=None, reverse=False)\n",
      "    Sort the list in ascending order and return None.\n",
      "    \n",
      "    The sort is in-place (i.e. the list itself is modified) and stable (i.e. the\n",
      "    order of two equal elements is maintained).\n",
      "    \n",
      "    If a key function is given, apply it once to each list item and sort them,\n",
      "    ascending or descending, according to their function values.\n",
      "    \n",
      "    The reverse flag can be set to sort in descending order.\n",
      "\n"
     ]
    }
   ],
   "source": [
    "help(list.sort)"
   ]
  },
  {
   "cell_type": "code",
   "execution_count": null,
   "metadata": {
    "id": "ruvElvq9skTD"
   },
   "outputs": [],
   "source": [
    "# create a variable with a list of car models\n",
    "cars = ['bmw', 'audi', 'toyota', 'subaru']\n",
    "print(cars)"
   ]
  },
  {
   "cell_type": "code",
   "execution_count": null,
   "metadata": {
    "id": "rOK_j6BHskTE"
   },
   "outputs": [],
   "source": [
    "# use the 'sort' function to alphabetically order the car names\n",
    "cars.sort()\n",
    "print(cars)"
   ]
  },
  {
   "cell_type": "code",
   "execution_count": null,
   "metadata": {
    "id": "qPBs0yiMskTE"
   },
   "outputs": [],
   "source": [
    "# sort list in reverse-alphabetical order\n",
    "cars.sort(reverse=True)\n",
    "print(cars)"
   ]
  },
  {
   "cell_type": "code",
   "execution_count": null,
   "metadata": {
    "id": "FytrG5BSskTE"
   },
   "outputs": [],
   "source": [
    "newList= ['€','xyz', 'abc', '5', '÷', 'Fgh']"
   ]
  },
  {
   "cell_type": "code",
   "execution_count": null,
   "metadata": {
    "id": "tW424aUpskTE"
   },
   "outputs": [],
   "source": [
    "newList.sort()\n",
    "print(newList)"
   ]
  },
  {
   "cell_type": "code",
   "execution_count": null,
   "metadata": {
    "id": "LEY6lOFsskTF"
   },
   "outputs": [],
   "source": [
    "newList= [123, 983,745]"
   ]
  },
  {
   "cell_type": "code",
   "execution_count": null,
   "metadata": {
    "id": "3WZzvqkTskTF"
   },
   "outputs": [],
   "source": [
    "newList.sort()\n",
    "print(newList)"
   ]
  },
  {
   "cell_type": "markdown",
   "metadata": {
    "id": "hdk0veL4skTF"
   },
   "source": [
    "### Sorting a List Temporarily with the `sorted()` Function\n",
    "\n",
    "To preserve the original order of a list, the `sorted(list_name)` function will temporarily sort the items, which can then be saved to another variable if needed."
   ]
  },
  {
   "cell_type": "code",
   "execution_count": null,
   "metadata": {
    "id": "L40v_pSfskTF"
   },
   "outputs": [],
   "source": [
    "# original list from previous example\n",
    "cars = ['bmw', 'audi', 'toyota', 'subaru']"
   ]
  },
  {
   "cell_type": "code",
   "execution_count": null,
   "metadata": {
    "id": "TQ0PC0CCskTG"
   },
   "outputs": [],
   "source": [
    "# show the original list order\n",
    "print(\"Here is the original list:\")\n",
    "print(cars)\n",
    "\n",
    "# show the sorted order\n",
    "print(\"\\nHere is the sorted list:\")\n",
    "print(sorted(cars))\n",
    "\n",
    "# show that the original list is unaffected\n",
    "print(\"\\nHere is the original list again:\")\n",
    "print(cars)"
   ]
  },
  {
   "cell_type": "markdown",
   "metadata": {
    "id": "ONU3hM6MskTG"
   },
   "source": [
    "### Printing a List in Reverse Order\n",
    "\n",
    "The `list_name.reverse()` function does not organize a list in reverse-alphabetical order, but rather it reverses the index positions of the items. This does permanently change the list but the original order can be restored by reverse sorting the list again (reversing the reverse)."
   ]
  },
  {
   "cell_type": "code",
   "execution_count": null,
   "metadata": {
    "id": "WOrqGmJEskTG"
   },
   "outputs": [],
   "source": [
    "# same list from previous example\n",
    "print(cars)"
   ]
  },
  {
   "cell_type": "code",
   "execution_count": null,
   "metadata": {
    "id": "m0vt3WSmskTG"
   },
   "outputs": [],
   "source": [
    "# sort items from last to first\n",
    "cars.reverse()\n",
    "print(cars)"
   ]
  },
  {
   "cell_type": "markdown",
   "metadata": {
    "id": "0cCHl5WoskTG"
   },
   "source": [
    "### Finding the Length of a List\n",
    "\n",
    "To know how many items are in a list, use the function `len(list_name)`."
   ]
  },
  {
   "cell_type": "code",
   "execution_count": null,
   "metadata": {
    "id": "PfxmnsdfskTH"
   },
   "outputs": [],
   "source": [
    "# same list from previous example\n",
    "print(cars)"
   ]
  },
  {
   "cell_type": "code",
   "execution_count": null,
   "metadata": {
    "id": "M_X7uggBskTH"
   },
   "outputs": [],
   "source": [
    "# number of items in the 'cars' list\n",
    "len(cars)"
   ]
  },
  {
   "cell_type": "markdown",
   "metadata": {},
   "source": [
    "### Exercise:\n",
    "Create a list of five fruits. Then:\n",
    "\n",
    "- Sort the list alphabetically and print it.\n",
    "- Print the original list to show it's unchanged.\n",
    "- Print the list in reverse alphabetical order without changing the original list.\n",
    "- Reverse the order of the original list and print it.\n",
    "- Print the number of fruits in the list."
   ]
  },
  {
   "cell_type": "code",
   "execution_count": 60,
   "metadata": {},
   "outputs": [],
   "source": [
    "fruits = ['apple', 'banana', 'cherry', 'avocado', 'berry']\n",
    "# Your code here"
   ]
  },
  {
   "cell_type": "markdown",
   "metadata": {},
   "source": [
    "### Exercise \n",
    "Create a list of numbers. Sort them in ascending order, then in descending order. Finally, reverse the original list and print its length\n"
   ]
  },
  {
   "cell_type": "code",
   "execution_count": null,
   "metadata": {},
   "outputs": [],
   "source": [
    "# Create a list of numbers. Sort them in ascending order, then in descending order. \n",
    "# Finally, reverse the original list and print its length\n",
    "numbers = [1, 5, 3, 7, 2, 8, 4, 6]\n",
    "# Your code here"
   ]
  },
  {
   "cell_type": "markdown",
   "metadata": {
    "id": "V_ddapWrskTJ"
   },
   "source": [
    "## Avoiding Index Errors when Working with Lists\n",
    "\n",
    "An `IndexError` is a fairly common mistake that occurs when first learning how to use lists. This error happens when an item is requested from a list but the index position does not exist. This error can also happen when requesting items from an empty list.\n",
    "\n",
    "If there is an `IndexError` in the program, try to resolve it by printing the list or the length of the list. It might look different than expected, especially when it has been used dynamically within the program."
   ]
  },
  {
   "cell_type": "code",
   "execution_count": null,
   "metadata": {
    "id": "sj3cSjMDskTK"
   },
   "outputs": [],
   "source": [
    "# create list of 3 items\n",
    "motorcycles = ['honda', 'yamaha', 'suzuki']\n",
    "\n",
    "print(len(motorcycles))"
   ]
  },
  {
   "cell_type": "code",
   "execution_count": null,
   "metadata": {
    "id": "Z63zcw96skTK"
   },
   "outputs": [],
   "source": [
    "# get the item in index position 3\n",
    "# the error occurs b/c there are only index positions 0, 1, and 2\n",
    "print(motorcycles[3])"
   ]
  },
  {
   "cell_type": "code",
   "execution_count": null,
   "metadata": {
    "id": "rv6tU5xgskTK"
   },
   "outputs": [],
   "source": [
    "# empty list\n",
    "motorcycles = []\n",
    "print(motorcycles)"
   ]
  },
  {
   "cell_type": "code",
   "execution_count": null,
   "metadata": {
    "id": "l-9leEw7skTK"
   },
   "outputs": [],
   "source": [
    "print(motorcycles[-1])"
   ]
  },
  {
   "cell_type": "markdown",
   "metadata": {},
   "source": [
    "##### Best Practices to Avoid Index Errors\n",
    "\n",
    "- Always remember that indexing starts at 0.\n",
    "- To access the last item in a list, use the index -1.\n",
    "- Make sure your list contains items before trying to access them."
   ]
  },
  {
   "cell_type": "markdown",
   "metadata": {},
   "source": []
  },
  {
   "cell_type": "markdown",
   "metadata": {},
   "source": [
    "#### Handling Potential Index Errors\n",
    "When you're not sure about the length of a list, you can use conditional statements to avoid errors:"
   ]
  },
  {
   "cell_type": "code",
   "execution_count": 61,
   "metadata": {},
   "outputs": [
    {
     "name": "stdout",
     "output_type": "stream",
     "text": [
      "The list doesn't have a fourth item\n"
     ]
    }
   ],
   "source": [
    "motorcycles = ['honda', 'yamaha', 'suzuki']\n",
    "# Safely access the fourth item (if it exists)\n",
    "if len(motorcycles) >= 4:\n",
    "    print(motorcycles[3])\n",
    "else:\n",
    "    print(\"The list doesn't have a fourth item\")"
   ]
  },
  {
   "cell_type": "markdown",
   "metadata": {},
   "source": []
  }
 ],
 "metadata": {
  "colab": {
   "include_colab_link": true,
   "name": "Ch_03_Introducing_Lists.ipynb",
   "provenance": []
  },
  "kernelspec": {
   "display_name": "Python 3",
   "language": "python",
   "name": "python3"
  },
  "language_info": {
   "codemirror_mode": {
    "name": "ipython",
    "version": 3
   },
   "file_extension": ".py",
   "mimetype": "text/x-python",
   "name": "python",
   "nbconvert_exporter": "python",
   "pygments_lexer": "ipython3",
   "version": "3.11.0"
  }
 },
 "nbformat": 4,
 "nbformat_minor": 0
}
