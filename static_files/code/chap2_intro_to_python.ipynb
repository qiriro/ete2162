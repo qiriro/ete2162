{
 "cells": [
  {
   "cell_type": "markdown",
   "metadata": {},
   "source": [
    "# Chapter 2: Variables and Simple Data Types\n",
    "In this chapter, we'll explore the fundamental concepts of variables and simple data types in Python. Topics will include: \n",
    "1. Variables in Python\n",
    "   - Creating and naming variables\n",
    "   - Variable naming rules and conventions\n",
    "   - Changing variable values\n",
    "\n",
    "2. Strings\n",
    "   - Creating and using strings\n",
    "   - String methods (e.g., title(), upper(), lower())\n",
    "   - F-strings for string formatting\n",
    "   - Adding whitespace with tabs and newlines\n",
    "   - Stripping whitespace (rstrip(), lstrip(), strip())\n",
    "   - Removing prefixes with removeprefix()\n",
    "   - Avoiding syntax errors with strings\n",
    "\n",
    "3. Numbers\n",
    "   - Integers and basic arithmetic operations\n",
    "   - Floats and floating-point arithmetic\n",
    "   - Mixing integers and floats in operations\n",
    "   - Using underscores in numbers for readability\n",
    "   - Multiple assignment\n",
    "   - Constants (convention in Python)\n",
    "\n",
    "4. Comments\n",
    "   - Writing comments in Python\n",
    "   - The importance and purpose of comments\n",
    "\n",
    "5. The Zen of Python\n",
    "   - Python's philosophy for writing good code\n",
    "\n",
    "6. Basic error handling\n",
    "   - Understanding and resolving syntax errors\n",
    "   - Dealing with name errors\n",
    "\n",
    "7. Python interpreter basics\n",
    "   - Running simple Python programs\n",
    "   - Using the Python interactive shell"
   ]
  },
  {
   "cell_type": "markdown",
   "metadata": {},
   "source": [
    "## 1. Variables\n",
    "\n",
    "Variables are used to store data in your Python programs. Think of them as labels that you can assign to values."
   ]
  },
  {
   "cell_type": "code",
   "execution_count": 1,
   "metadata": {},
   "outputs": [
    {
     "name": "stdout",
     "output_type": "stream",
     "text": [
      "Hello Python world!\n"
     ]
    }
   ],
   "source": [
    "# Creating a variable and assigning a value\n",
    "message = \"Hello Python world!\"\n",
    "print(message)"
   ]
  },
  {
   "cell_type": "markdown",
   "metadata": {},
   "source": [
    "### Exercise 1.1\n",
    "Create a variable called `favorite_number` and assign it your favorite number. Then print a message using this variable."
   ]
  },
  {
   "cell_type": "code",
   "execution_count": 2,
   "metadata": {},
   "outputs": [
    {
     "ename": "SyntaxError",
     "evalue": "invalid syntax (3428930545.py, line 2)",
     "output_type": "error",
     "traceback": [
      "\u001b[0;36m  Cell \u001b[0;32mIn[2], line 2\u001b[0;36m\u001b[0m\n\u001b[0;31m    favorite_number =\u001b[0m\n\u001b[0m                      ^\u001b[0m\n\u001b[0;31mSyntaxError\u001b[0m\u001b[0;31m:\u001b[0m invalid syntax\n"
     ]
    }
   ],
   "source": [
    "# Your code here\n",
    "favorite_number = \n",
    "print(f\"My favorite number is {favorite_number}.\")"
   ]
  },
  {
   "cell_type": "markdown",
   "metadata": {},
   "source": [
    "## 2. Strings\n",
    "\n",
    "Strings are sequences of characters. In Python, you can create strings using single or double quotes."
   ]
  },
  {
   "cell_type": "code",
   "execution_count": null,
   "metadata": {},
   "outputs": [],
   "source": [
    "# Creating strings\n",
    "single_quoted = 'This is a string.'\n",
    "double_quoted = \"This is also a string.\"\n",
    "\n",
    "print(single_quoted)\n",
    "print(double_quoted)"
   ]
  },
  {
   "cell_type": "markdown",
   "metadata": {},
   "source": [
    "### String Methods\n",
    "\n",
    "Python provides various methods to manipulate strings."
   ]
  },
  {
   "cell_type": "code",
   "execution_count": null,
   "metadata": {},
   "outputs": [],
   "source": [
    "# String methods\n",
    "name = \"ada lovelace\"\n",
    "\n",
    "print(name.title())  # Capitalize each word\n",
    "print(name.upper())  # Convert to uppercase\n",
    "print(name.lower())  # Convert to lowercase"
   ]
  },
  {
   "cell_type": "markdown",
   "metadata": {},
   "source": [
    "### Exercise 2.1\n",
    "Create a variable with your full name in lowercase. Then use string methods to print it in title case and uppercase."
   ]
  },
  {
   "cell_type": "code",
   "execution_count": null,
   "metadata": {},
   "outputs": [],
   "source": [
    "# Your code here\n",
    "full_name = \n",
    "print()\n",
    "print()"
   ]
  },
  {
   "cell_type": "markdown",
   "metadata": {},
   "source": [
    "## 3. Numbers\n",
    "\n",
    "Python has several types of numbers, including integers and floating-point numbers (floats)."
   ]
  },
  {
   "cell_type": "code",
   "execution_count": null,
   "metadata": {},
   "outputs": [],
   "source": [
    "# Integers\n",
    "age = 25\n",
    "print(f\"Age: {age}\")\n",
    "\n",
    "# Floats\n",
    "pi = 3.14159\n",
    "print(f\"Pi: {pi}\")\n",
    "\n",
    "# Basic arithmetic\n",
    "print(f\"5 + 3 = {5 + 3}\")\n",
    "print(f\"10 - 2 = {10 - 2}\")\n",
    "print(f\"4 * 2 = {4 * 2}\")\n",
    "print(f\"16 / 2 = {16 / 2}\")\n",
    "print(f\"3 ** 2 = {3 ** 2}\")  # Exponentiation"
   ]
  },
  {
   "cell_type": "markdown",
   "metadata": {},
   "source": [
    "### Exercise 3.1\n",
    "Write operations that result in the number 8, using addition, subtraction, multiplication, and division. Print each result."
   ]
  },
  {
   "cell_type": "code",
   "execution_count": null,
   "metadata": {},
   "outputs": [],
   "source": [
    "# Your code here\n",
    "print()\n",
    "print()\n",
    "print()\n",
    "print()"
   ]
  },
  {
   "cell_type": "markdown",
   "metadata": {},
   "source": [
    "## 4. Comments\n",
    "\n",
    "Comments are used to explain code and are ignored by Python when executing the program."
   ]
  },
  {
   "cell_type": "code",
   "execution_count": null,
   "metadata": {},
   "outputs": [],
   "source": [
    "# This is a comment\n",
    "print(\"Hello, World!\")  # This is an inline comment\n",
    "\n",
    "# Comments can span multiple lines\n",
    "# Like this\n",
    "# And this"
   ]
  },
  {
   "cell_type": "markdown",
   "metadata": {},
   "source": [
    "### Exercise 4.1\n",
    "Write a short Python program that performs a simple task. Include comments to explain what your code does."
   ]
  },
  {
   "cell_type": "code",
   "execution_count": null,
   "metadata": {},
   "outputs": [],
   "source": [
    "# Your code here\n"
   ]
  },
  {
   "cell_type": "markdown",
   "metadata": {},
   "source": [
    "## Summary\n",
    "\n",
    "In this chapter, we covered:\n",
    "- Variables and how to use them\n",
    "- Strings and string methods\n",
    "- Numbers (integers and floats) and basic arithmetic\n",
    "- Comments and their importance in programming\n",
    "\n",
    "Practice these concepts to build a strong foundation in Python programming!"
   ]
  },
  {
   "cell_type": "markdown",
   "metadata": {},
   "source": [
    "## Additional Exercises\n",
    "\n",
    "1. Create a program that asks the user for their name and age, then prints a message using this information.\n",
    "2. Write a program that converts temperatures from Fahrenheit to Celsius.\n",
    "3. Create a simple calculator that can add, subtract, multiply, and divide two numbers entered by the user.\n",
    "\n",
    "Remember to use comments to explain your code!"
   ]
  }
 ],
 "metadata": {
  "kernelspec": {
   "display_name": "Python 3 (ipykernel)",
   "language": "python",
   "name": "python3"
  },
  "language_info": {
   "codemirror_mode": {
    "name": "ipython",
    "version": 3
   },
   "file_extension": ".py",
   "mimetype": "text/x-python",
   "name": "python",
   "nbconvert_exporter": "python",
   "pygments_lexer": "ipython3",
   "version": "3.12.4"
  }
 },
 "nbformat": 4,
 "nbformat_minor": 4
}
